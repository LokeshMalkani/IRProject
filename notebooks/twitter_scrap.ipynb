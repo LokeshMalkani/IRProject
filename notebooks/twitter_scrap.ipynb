{
 "cells": [
  {
   "cell_type": "code",
   "execution_count": 1,
   "metadata": {},
   "outputs": [
    {
     "name": "stdout",
     "output_type": "stream",
     "text": [
      "Defaulting to user installation because normal site-packages is not writeable\n",
      "Collecting git+https://github.com/JustAnotherArchivist/snscrape.git\n",
      "  Cloning https://github.com/JustAnotherArchivist/snscrape.git to /tmp/pip-req-build-c1uoq915\n",
      "Requirement already satisfied: requests[socks] in /usr/lib/python3/dist-packages (from snscrape==0.3.5.dev96+g47fbc2a) (2.22.0)\n",
      "Requirement already satisfied: lxml in /usr/lib/python3/dist-packages (from snscrape==0.3.5.dev96+g47fbc2a) (4.5.0)\n",
      "Requirement already satisfied: beautifulsoup4 in /usr/lib/python3/dist-packages (from snscrape==0.3.5.dev96+g47fbc2a) (4.8.2)\n",
      "Requirement already satisfied: pytz in /usr/lib/python3/dist-packages (from snscrape==0.3.5.dev96+g47fbc2a) (2019.3)\n",
      "Requirement already satisfied: PySocks!=1.5.7,>=1.5.6 in /usr/lib/python3/dist-packages (from requests[socks]->snscrape==0.3.5.dev96+g47fbc2a) (1.6.8)\n",
      "Building wheels for collected packages: snscrape\n",
      "  Building wheel for snscrape (setup.py) ... \u001b[?25ldone\n",
      "\u001b[?25h  Created wheel for snscrape: filename=snscrape-0.3.5.dev96+g47fbc2a-py3-none-any.whl size=50122 sha256=6053721494cd833b44204a9f4f5e783589fc03821229357b5fef27be09689bb0\n",
      "  Stored in directory: /tmp/pip-ephem-wheel-cache-c5zdk0gl/wheels/92/42/87/33fa9b18f7a75d02643a9ca3743339aec9be28c6796267c7d8\n",
      "Successfully built snscrape\n",
      "Installing collected packages: snscrape\n",
      "  Attempting uninstall: snscrape\n",
      "    Found existing installation: snscrape 0.3.4\n",
      "    Uninstalling snscrape-0.3.4:\n",
      "      Successfully uninstalled snscrape-0.3.4\n",
      "Successfully installed snscrape-0.3.5.dev96+g47fbc2a\n",
      "\u001b[33mWARNING: You are using pip version 20.2.3; however, version 21.0.1 is available.\n",
      "You should consider upgrading via the '/usr/bin/python3 -m pip install --upgrade pip' command.\u001b[0m\n"
     ]
    }
   ],
   "source": [
    "!pip install git+https://github.com/JustAnotherArchivist/snscrape.git"
   ]
  },
  {
   "cell_type": "code",
   "execution_count": 2,
   "metadata": {},
   "outputs": [
    {
     "name": "stdout",
     "output_type": "stream",
     "text": [
      "Defaulting to user installation because normal site-packages is not writeable\n",
      "Requirement already satisfied: pandas in /home/algomast/.local/lib/python3.8/site-packages (1.1.2)\n",
      "Requirement already satisfied: python-dateutil>=2.7.3 in /usr/lib/python3/dist-packages (from pandas) (2.7.3)\n",
      "Requirement already satisfied: numpy>=1.15.4 in /home/algomast/.local/lib/python3.8/site-packages (from pandas) (1.18.5)\n",
      "Requirement already satisfied: pytz>=2017.2 in /usr/lib/python3/dist-packages (from pandas) (2019.3)\n",
      "\u001b[33mWARNING: You are using pip version 20.2.3; however, version 21.0.1 is available.\n",
      "You should consider upgrading via the '/usr/bin/python3 -m pip install --upgrade pip' command.\u001b[0m\n"
     ]
    }
   ],
   "source": [
    "!pip install pandas"
   ]
  },
  {
   "cell_type": "code",
   "execution_count": 3,
   "metadata": {},
   "outputs": [],
   "source": [
    "import snscrape.modules.twitter as sntwitter\n",
    "import pandas as pd"
   ]
  },
  {
   "cell_type": "code",
   "execution_count": 7,
   "metadata": {},
   "outputs": [],
   "source": [
    "maxTweets = 100\n",
    "\n",
    "# Creating list to append tweet data to\n",
    "tweets_list2 = []\n",
    "count=0\n",
    "# Using TwitterSearchScraper to scrape data and append tweets to list\n",
    "\n",
    "\n",
    "try1 = \"\"\"#FarmersProtest since:2020-06-01 until:2020-06-30\"\"\"\n",
    "try2 = \"\"\"#FarmersProtest since:2020-07-01 until:2020-07-31\"\"\"\n",
    "try3 = \"\"\"#FarmersProtest since:2020-08-01 until:2020-08-31\"\"\"\n",
    "try4 = \"\"\"#FarmersProtest since:2020-09-01 until:2020-09-30\"\"\"\n",
    "try5 = \"\"\"#FarmersProtest since:2020-10-01 until:2020-10-31\"\"\"\n",
    "try6 = \"\"\"#FarmersProtest since:2020-11-01 until:2020-11-30\"\"\"\n",
    "try7 = \"\"\"#FarmersProtest since:2020-12-01 until:2020-12-31\"\"\"\n",
    "try8 = \"\"\"#FarmersProtest since:2021-01-01 until:2021-01-30\"\"\"\n",
    "try9 = \"\"\"#FarmersProtest since:2021-02-01 until:2021-02-28\"\"\"\n",
    "try10 = \"\"\"#FarmersProtest since:2021-01-01 until:2021-01-30\"\"\"\n",
    "\n",
    "\n",
    "for i,tweet in enumerate(sntwitter.TwitterSearchScraper('#FarmersProtest since:2020-06-05 until:2020-06-30').get_items()):\n",
    "    if count>maxTweets:\n",
    "        break\n",
    "    if tweet.retweetCount>=10:\n",
    "        count+=1\n",
    "        tweets_list2.append([tweet.date, tweet.id, tweet.content, tweet.user.username, tweet.user.followersCount, tweet.likeCount, tweet.retweetCount, tweet.quoteCount])"
   ]
  },
  {
   "cell_type": "code",
   "execution_count": 24,
   "metadata": {},
   "outputs": [],
   "source": [
    "\n",
    "try1 = \"\"\"#FarmersProtest since:2020-06-01 until:2020-06-30\"\"\"\n",
    "try2 = \"\"\"#FarmersProtest since:2020-07-01 until:2020-07-31\"\"\"\n",
    "try3 = \"\"\"#FarmersProtest since:2020-08-01 until:2020-08-31\"\"\"\n",
    "try4 = \"\"\"#FarmersProtest since:2020-09-01 until:2020-09-30\"\"\"\n",
    "try5 = \"\"\"#FarmersProtest since:2020-10-01 until:2020-10-31\"\"\"\n",
    "try6 = \"\"\"#FarmersProtest since:2020-11-01 until:2020-11-30\"\"\"\n",
    "try7 = \"\"\"#FarmersProtest since:2020-12-01 until:2020-12-31\"\"\"\n",
    "try8 = \"\"\"#FarmersProtest since:2021-01-01 until:2021-01-30\"\"\"\n",
    "try9 = \"\"\"#FarmersProtest since:2021-02-01 until:2021-02-28\"\"\"\n",
    "try10 = \"\"\"#FarmersProtest since:2021-01-01 until:2021-01-30\"\"\"\n",
    "\n",
    "try11 = \"\"\"min_faves:100 min_retweets:50 lang:en #FarmersProtest since:2020-09-01 until:2020-09-30\"\"\"\n"
   ]
  },
  {
   "cell_type": "code",
   "execution_count": 40,
   "metadata": {},
   "outputs": [
    {
     "data": {
      "text/plain": [
       "(104, 8)"
      ]
     },
     "execution_count": 40,
     "metadata": {},
     "output_type": "execute_result"
    }
   ],
   "source": [
    "\n",
    "try1 = \"\"\"#FarmersProtest since:2020-06-01 until:2020-06-30\"\"\"\n",
    "try2 = \"\"\"#FarmersProtest since:2020-07-01 until:2020-07-31\"\"\"\n",
    "try3 = \"\"\"#FarmersProtest since:2020-08-01 until:2020-08-31\"\"\"\n",
    "try4 = \"\"\"#FarmersProtest since:2020-09-01 until:2020-09-30\"\"\"\n",
    "try5 = \"\"\"#FarmersProtest since:2020-10-01 until:2020-10-31\"\"\"\n",
    "try6 = \"\"\"#FarmersProtest since:2020-11-01 until:2020-11-30\"\"\"\n",
    "try7 = \"\"\"#FarmersProtest since:2020-12-01 until:2020-12-31\"\"\"\n",
    "try8 = \"\"\"#FarmersProtest since:2021-01-01 until:2021-01-30\"\"\"\n",
    "try9 = \"\"\"#FarmersProtest since:2021-02-01 until:2021-02-28\"\"\"\n",
    "try10 = \"\"\"#FarmersProtest since:2021-01-01 until:2021-01-30\"\"\"\n",
    "\n",
    "try11 = \"\"\"min_faves:50 min_retweets:10 lang:en (#FarmersProtest OR #Farmer OR #Kishan OR #IndiaTogether OR #IndiaAgainstPropaganda OR #justasking)   since:2021-02-01 until:2021-02-02\"\"\"\n",
    "\n",
    "k = sntwitter.TwitterSearchScraper(try11).get_items()\n",
    "\n",
    "twt1 = []\n",
    "for i, tweet in enumerate(k):\n",
    "  twt1.append([tweet.date, tweet.id, tweet.content, tweet.user.username, tweet.user.followersCount, tweet.likeCount, tweet.retweetCount, tweet.quoteCount])\n",
    "twt1Df = pd.DataFrame(twt1, columns=['Datetime', 'Tweet Id', 'Text', 'Username','FollowersCount',\"likeCount\",\"retweetCount\",\"quoteCount\"])\n",
    "twt1Df.shape"
   ]
  },
  {
   "cell_type": "code",
   "execution_count": 41,
   "metadata": {},
   "outputs": [
    {
     "data": {
      "text/html": [
       "<div>\n",
       "<style scoped>\n",
       "    .dataframe tbody tr th:only-of-type {\n",
       "        vertical-align: middle;\n",
       "    }\n",
       "\n",
       "    .dataframe tbody tr th {\n",
       "        vertical-align: top;\n",
       "    }\n",
       "\n",
       "    .dataframe thead th {\n",
       "        text-align: right;\n",
       "    }\n",
       "</style>\n",
       "<table border=\"1\" class=\"dataframe\">\n",
       "  <thead>\n",
       "    <tr style=\"text-align: right;\">\n",
       "      <th></th>\n",
       "      <th>Datetime</th>\n",
       "      <th>Tweet Id</th>\n",
       "      <th>Text</th>\n",
       "      <th>Username</th>\n",
       "      <th>FollowersCount</th>\n",
       "      <th>likeCount</th>\n",
       "      <th>retweetCount</th>\n",
       "      <th>quoteCount</th>\n",
       "    </tr>\n",
       "  </thead>\n",
       "  <tbody>\n",
       "    <tr>\n",
       "      <th>0</th>\n",
       "      <td>2021-02-01 23:57:17+00:00</td>\n",
       "      <td>1356391200622829569</td>\n",
       "      <td>I have received trolling, death threats, rape ...</td>\n",
       "      <td>ClaudiaWebbe</td>\n",
       "      <td>42343</td>\n",
       "      <td>7518</td>\n",
       "      <td>3453</td>\n",
       "      <td>576</td>\n",
       "    </tr>\n",
       "    <tr>\n",
       "      <th>1</th>\n",
       "      <td>2021-02-01 23:57:09+00:00</td>\n",
       "      <td>1356391167068434437</td>\n",
       "      <td>Yes it is visible. Go ahead. We are with you. ...</td>\n",
       "      <td>digvijaya_28</td>\n",
       "      <td>1081652</td>\n",
       "      <td>183</td>\n",
       "      <td>53</td>\n",
       "      <td>2</td>\n",
       "    </tr>\n",
       "    <tr>\n",
       "      <th>2</th>\n",
       "      <td>2021-02-01 23:00:41+00:00</td>\n",
       "      <td>1356376958582587392</td>\n",
       "      <td>No matter what the differences are,we all need...</td>\n",
       "      <td>RaviSinghKA</td>\n",
       "      <td>232349</td>\n",
       "      <td>3519</td>\n",
       "      <td>955</td>\n",
       "      <td>64</td>\n",
       "    </tr>\n",
       "    <tr>\n",
       "      <th>3</th>\n",
       "      <td>2021-02-01 22:46:27+00:00</td>\n",
       "      <td>1356373374222684163</td>\n",
       "      <td>We can always count on @Inkquisitive to create...</td>\n",
       "      <td>humblethepoet</td>\n",
       "      <td>116075</td>\n",
       "      <td>968</td>\n",
       "      <td>391</td>\n",
       "      <td>15</td>\n",
       "    </tr>\n",
       "    <tr>\n",
       "      <th>4</th>\n",
       "      <td>2021-02-01 22:28:49+00:00</td>\n",
       "      <td>1356368936649052160</td>\n",
       "      <td>UPDATE | The Premier of British Columbia, a ma...</td>\n",
       "      <td>BaazNewsOrg</td>\n",
       "      <td>6465</td>\n",
       "      <td>135</td>\n",
       "      <td>49</td>\n",
       "      <td>5</td>\n",
       "    </tr>\n",
       "    <tr>\n",
       "      <th>...</th>\n",
       "      <td>...</td>\n",
       "      <td>...</td>\n",
       "      <td>...</td>\n",
       "      <td>...</td>\n",
       "      <td>...</td>\n",
       "      <td>...</td>\n",
       "      <td>...</td>\n",
       "      <td>...</td>\n",
       "    </tr>\n",
       "    <tr>\n",
       "      <th>99</th>\n",
       "      <td>2021-02-01 02:26:02+00:00</td>\n",
       "      <td>1356066249185263616</td>\n",
       "      <td>#FarmersProtest enters day 67 on borders of De...</td>\n",
       "      <td>amaanbali</td>\n",
       "      <td>28762</td>\n",
       "      <td>906</td>\n",
       "      <td>337</td>\n",
       "      <td>15</td>\n",
       "    </tr>\n",
       "    <tr>\n",
       "      <th>100</th>\n",
       "      <td>2021-02-01 01:50:11+00:00</td>\n",
       "      <td>1356057225660424192</td>\n",
       "      <td>Original Reporting | India's Journalists Stand...</td>\n",
       "      <td>BaazNewsOrg</td>\n",
       "      <td>6465</td>\n",
       "      <td>144</td>\n",
       "      <td>63</td>\n",
       "      <td>8</td>\n",
       "    </tr>\n",
       "    <tr>\n",
       "      <th>101</th>\n",
       "      <td>2021-02-01 01:45:03+00:00</td>\n",
       "      <td>1356055931469975552</td>\n",
       "      <td>So Deep Sidhu and Lakha Sidania are traitors, ...</td>\n",
       "      <td>JasjitSinghD</td>\n",
       "      <td>2048</td>\n",
       "      <td>216</td>\n",
       "      <td>71</td>\n",
       "      <td>1</td>\n",
       "    </tr>\n",
       "    <tr>\n",
       "      <th>102</th>\n",
       "      <td>2021-02-01 01:16:04+00:00</td>\n",
       "      <td>1356048637923627010</td>\n",
       "      <td>* SIKH WOMAN \"SEXUALLY ASSAULTED\" DURING 18 DA...</td>\n",
       "      <td>SikhPA</td>\n",
       "      <td>27000</td>\n",
       "      <td>503</td>\n",
       "      <td>430</td>\n",
       "      <td>48</td>\n",
       "    </tr>\n",
       "    <tr>\n",
       "      <th>103</th>\n",
       "      <td>2021-02-01 00:12:19+00:00</td>\n",
       "      <td>1356032595964743681</td>\n",
       "      <td>#FarmersProtest\\n\\n Sikh couple dedicates wedd...</td>\n",
       "      <td>sushant_says</td>\n",
       "      <td>204559</td>\n",
       "      <td>665</td>\n",
       "      <td>216</td>\n",
       "      <td>5</td>\n",
       "    </tr>\n",
       "  </tbody>\n",
       "</table>\n",
       "<p>104 rows × 8 columns</p>\n",
       "</div>"
      ],
      "text/plain": [
       "                     Datetime             Tweet Id  \\\n",
       "0   2021-02-01 23:57:17+00:00  1356391200622829569   \n",
       "1   2021-02-01 23:57:09+00:00  1356391167068434437   \n",
       "2   2021-02-01 23:00:41+00:00  1356376958582587392   \n",
       "3   2021-02-01 22:46:27+00:00  1356373374222684163   \n",
       "4   2021-02-01 22:28:49+00:00  1356368936649052160   \n",
       "..                        ...                  ...   \n",
       "99  2021-02-01 02:26:02+00:00  1356066249185263616   \n",
       "100 2021-02-01 01:50:11+00:00  1356057225660424192   \n",
       "101 2021-02-01 01:45:03+00:00  1356055931469975552   \n",
       "102 2021-02-01 01:16:04+00:00  1356048637923627010   \n",
       "103 2021-02-01 00:12:19+00:00  1356032595964743681   \n",
       "\n",
       "                                                  Text       Username  \\\n",
       "0    I have received trolling, death threats, rape ...   ClaudiaWebbe   \n",
       "1    Yes it is visible. Go ahead. We are with you. ...   digvijaya_28   \n",
       "2    No matter what the differences are,we all need...    RaviSinghKA   \n",
       "3    We can always count on @Inkquisitive to create...  humblethepoet   \n",
       "4    UPDATE | The Premier of British Columbia, a ma...    BaazNewsOrg   \n",
       "..                                                 ...            ...   \n",
       "99   #FarmersProtest enters day 67 on borders of De...      amaanbali   \n",
       "100  Original Reporting | India's Journalists Stand...    BaazNewsOrg   \n",
       "101  So Deep Sidhu and Lakha Sidania are traitors, ...   JasjitSinghD   \n",
       "102  * SIKH WOMAN \"SEXUALLY ASSAULTED\" DURING 18 DA...         SikhPA   \n",
       "103  #FarmersProtest\\n\\n Sikh couple dedicates wedd...   sushant_says   \n",
       "\n",
       "     FollowersCount  likeCount  retweetCount  quoteCount  \n",
       "0             42343       7518          3453         576  \n",
       "1           1081652        183            53           2  \n",
       "2            232349       3519           955          64  \n",
       "3            116075        968           391          15  \n",
       "4              6465        135            49           5  \n",
       "..              ...        ...           ...         ...  \n",
       "99            28762        906           337          15  \n",
       "100            6465        144            63           8  \n",
       "101            2048        216            71           1  \n",
       "102           27000        503           430          48  \n",
       "103          204559        665           216           5  \n",
       "\n",
       "[104 rows x 8 columns]"
      ]
     },
     "execution_count": 41,
     "metadata": {},
     "output_type": "execute_result"
    }
   ],
   "source": [
    "twt1Df\n"
   ]
  },
  {
   "cell_type": "code",
   "execution_count": 14,
   "metadata": {},
   "outputs": [],
   "source": [
    "\"\"\"\n",
    "both word \"joined word\" (any OR word) -none -word (#hash1, OR #hash2) (from:bjp, OR from:pmo) (to:replyto1, OR to:replyto2) (@mention1, OR @mention2) min_replies:11 min_faves:15 min_retweets:8 lang:en until:2020-11-18 since:2008-09-20\n",
    "\"\"\""
   ]
  },
  {
   "cell_type": "code",
   "execution_count": 18,
   "metadata": {},
   "outputs": [
    {
     "data": {
      "text/plain": [
       "0     @Jonathan_MBanks Not retire, but unify it in a...\n",
       "1     Bhutan Rejects : असम का पानी रोकने की खबर अफवा...\n",
       "2     अब भूटान ने रोका भारत का पानी \\n@INCIndia @INC...\n",
       "3     #JUSTIN\\n\\nதிருச்சி மாவட்ட ஆட்சியர் அலுவலகம் ம...\n",
       "4     காய்கறிகளுக்கு உரிய விலை கிடைக்கவில்லை என குற்...\n",
       "5     ಕೇಂದ್ರ-ರಾಜ್ಯ ಸರ್ಕಾರಗಳ ವಿರುದ್ಧ ಹೋರಾಟಕ್ಕೆ ಮುಂದಾದ...\n",
       "6     વડોદરા-મુંબઇ એક્સપ્રેસ હાઇવેની કામગીરીનો વિરોધ...\n",
       "7     Like the importance we give to the subject of ...\n",
       "8               #farmersprotest https://t.co/B7BghlVR74\n",
       "9     @sunnewstamil *விவசாயத்தை கருவறுக்கும் இடைத்தர...\n",
       "10    புதிய அத்தியாவசியப்  பொருட்கள் சட்டத்தை எதிர்த...\n",
       "11    முதலமைச்சர்  பழனிசாமியின் சேலம் வருகைக்கு எதிர...\n",
       "12    राजस्थान में फिर दोहराया गया इतिहास, आखिर क्या...\n",
       "13    #தமிழ்நாட்டில் 8 #வழிச்சாலைக்கு எதிரான போராட்ட...\n",
       "14    தமிழ்நாட்டில் 8 வழிச்சாலைக்கு எதிரான போராட்டங்...\n",
       "15    தமிழ்நாட்டில் 8 வழிச்சாலைக்கு எதிரான போராட்டங்...\n",
       "16    சேலம் - சென்னை எட்டு வழிச்சாலை திட்டத்தை கைவிட...\n",
       "17    Amid Coronavirus, Farmers Stages Protest Again...\n",
       "18    AIFO की अगुवाई में किसान संगठनों का 6 जून को ऑ...\n",
       "Name: Text, dtype: object"
      ]
     },
     "execution_count": 18,
     "metadata": {},
     "output_type": "execute_result"
    }
   ],
   "source": [
    "twt1Df.Text"
   ]
  },
  {
   "cell_type": "code",
   "execution_count": 8,
   "metadata": {},
   "outputs": [
    {
     "data": {
      "text/html": [
       "<div>\n",
       "<style scoped>\n",
       "    .dataframe tbody tr th:only-of-type {\n",
       "        vertical-align: middle;\n",
       "    }\n",
       "\n",
       "    .dataframe tbody tr th {\n",
       "        vertical-align: top;\n",
       "    }\n",
       "\n",
       "    .dataframe thead th {\n",
       "        text-align: right;\n",
       "    }\n",
       "</style>\n",
       "<table border=\"1\" class=\"dataframe\">\n",
       "  <thead>\n",
       "    <tr style=\"text-align: right;\">\n",
       "      <th></th>\n",
       "      <th>Datetime</th>\n",
       "      <th>Tweet Id</th>\n",
       "      <th>Text</th>\n",
       "      <th>Username</th>\n",
       "      <th>FollowersCount</th>\n",
       "      <th>likeCount</th>\n",
       "      <th>retweetCount</th>\n",
       "      <th>quoteCount</th>\n",
       "    </tr>\n",
       "  </thead>\n",
       "  <tbody>\n",
       "    <tr>\n",
       "      <th>0</th>\n",
       "      <td>2020-06-22 09:11:47+00:00</td>\n",
       "      <td>1274993474031378432</td>\n",
       "      <td>#JUSTIN\\n\\nதிருச்சி மாவட்ட ஆட்சியர் அலுவலகம் ம...</td>\n",
       "      <td>news7tamil</td>\n",
       "      <td>1300105</td>\n",
       "      <td>54</td>\n",
       "      <td>10</td>\n",
       "      <td>1</td>\n",
       "    </tr>\n",
       "    <tr>\n",
       "      <th>1</th>\n",
       "      <td>2020-06-08 14:30:00+00:00</td>\n",
       "      <td>1270000127558606848</td>\n",
       "      <td>சேலம் - சென்னை எட்டு வழிச்சாலை திட்டத்தை கைவிட...</td>\n",
       "      <td>tncpim</td>\n",
       "      <td>57629</td>\n",
       "      <td>21</td>\n",
       "      <td>10</td>\n",
       "      <td>0</td>\n",
       "    </tr>\n",
       "  </tbody>\n",
       "</table>\n",
       "</div>"
      ],
      "text/plain": [
       "                   Datetime             Tweet Id  \\\n",
       "0 2020-06-22 09:11:47+00:00  1274993474031378432   \n",
       "1 2020-06-08 14:30:00+00:00  1270000127558606848   \n",
       "\n",
       "                                                Text    Username  \\\n",
       "0  #JUSTIN\\n\\nதிருச்சி மாவட்ட ஆட்சியர் அலுவலகம் ம...  news7tamil   \n",
       "1  சேலம் - சென்னை எட்டு வழிச்சாலை திட்டத்தை கைவிட...      tncpim   \n",
       "\n",
       "   FollowersCount  likeCount  retweetCount  quoteCount  \n",
       "0         1300105         54            10           1  \n",
       "1           57629         21            10           0  "
      ]
     },
     "execution_count": 8,
     "metadata": {},
     "output_type": "execute_result"
    }
   ],
   "source": [
    "tweets_df2 = pd.DataFrame(tweets_list2, columns=['Datetime', 'Tweet Id', 'Text', 'Username','FollowersCount',\"likeCount\",\"retweetCount\",\"quoteCount\"])\n",
    "\n",
    "# Display first 5 entries from dataframe\n",
    "tweets_df2"
   ]
  },
  {
   "cell_type": "code",
   "execution_count": 23,
   "metadata": {},
   "outputs": [
    {
     "data": {
      "text/plain": [
       "101"
      ]
     },
     "execution_count": 23,
     "metadata": {},
     "output_type": "execute_result"
    }
   ],
   "source": [
    "len(tweets_df2)"
   ]
  },
  {
   "cell_type": "code",
   "execution_count": 14,
   "metadata": {},
   "outputs": [],
   "source": [
    "tweets_df2.to_csv('text-query-tweets3.csv', sep=',', index=False)"
   ]
  },
  {
   "cell_type": "code",
   "execution_count": 110,
   "metadata": {},
   "outputs": [
    {
     "data": {
      "text/plain": [
       "0      Farmers protest culminating in yesterday's eve...\n",
       "1      @vibingweeknd @ssgahunia @shirishthorat @Adity...\n",
       "2      @Indiabigtweet Dear brother i am not North or ...\n",
       "3      @vibingweeknd @ssgahunia @shirishthorat @Adity...\n",
       "4      @ManishK81086116 @KanganaTeam No, I hold govt ...\n",
       "                             ...                        \n",
       "196    @NimratBassi Well you seem very intelligent. Y...\n",
       "197    Farmers Protest: Thousands of farmers assemble...\n",
       "198    Farmers Protest: Thousands of farmers assemble...\n",
       "199    BJP government is all set to attack farmers wi...\n",
       "200    On February 1, we will march on foot towards P...\n",
       "Name: Text, Length: 201, dtype: object"
      ]
     },
     "execution_count": 110,
     "metadata": {},
     "output_type": "execute_result"
    }
   ],
   "source": [
    "tweets_df2[\"Text\"]"
   ]
  },
  {
   "cell_type": "code",
   "execution_count": null,
   "metadata": {},
   "outputs": [],
   "source": [
    "\"\"\"(#FarmersProtest OR #hash1 OR #hash2...) min_faves:15 min_retweets:10 lang:en min_replies:11 since:2021-01-01 until:2021-01-30\"\"\""
   ]
  },
  {
   "cell_type": "code",
   "execution_count": null,
   "metadata": {},
   "outputs": [],
   "source": [
    "\"\"\"\n",
    "June : Rahul\n",
    "July : Lokesh\n",
    "Aug : Arpit\n",
    "Sept : Anshuman\n",
    "Oct : Apoorv\n",
    "\n",
    "Nov : Rahul\n",
    "Dec : Lokesh, \n",
    "Jan : Arpit, Rahul\n",
    "Feb : Anshuman\n",
    "Mar : Apoorv\n",
    "\"\"\"\n",
    "\n",
    "\n"
   ]
  }
 ],
 "metadata": {
  "kernelspec": {
   "display_name": "Python 3",
   "language": "python",
   "name": "python3"
  },
  "language_info": {
   "codemirror_mode": {
    "name": "ipython",
    "version": 3
   },
   "file_extension": ".py",
   "mimetype": "text/x-python",
   "name": "python",
   "nbconvert_exporter": "python",
   "pygments_lexer": "ipython3",
   "version": "3.8.5"
  }
 },
 "nbformat": 4,
 "nbformat_minor": 5
}
